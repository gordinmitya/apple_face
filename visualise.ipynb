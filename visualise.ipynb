{
 "cells": [
  {
   "cell_type": "code",
   "execution_count": null,
   "metadata": {},
   "outputs": [],
   "source": [
    "import cv2\n",
    "import numpy as np\n",
    "import os\n",
    "import json\n",
    "import matplotlib.pyplot as plt\n",
    "from PIL import Image"
   ]
  },
  {
   "cell_type": "code",
   "execution_count": null,
   "metadata": {},
   "outputs": [],
   "source": [
    "IMAGES_PATH = '/media/pupa/DataStorage/datasets/'\n",
    "ANNOTATIONS_PATH = './annotations/'\n",
    "\n",
    "def draw_landmarks_crop(img, landmarks):\n",
    "    for landmark in landmarks:\n",
    "        x, y = landmark\n",
    "        x, y = int(x), int(y)\n",
    "        img = cv2.circle(img, (x, y), 3, (0, 0, 255), -1)\n",
    "    return img\n",
    "\n",
    "def draw_bboxes(img, bbox):\n",
    "    left, top, right, bottom = bbox['left'], bbox['top'], bbox['right'], bbox['bottom']\n",
    "    img = cv2.rectangle(img, (left, top), (right, bottom), (255, 0, 0), 1)\n",
    "    return img\n",
    "\n",
    "def read_sample(sample_name):\n",
    "    img_path = os.path.join(IMAGES_PATH, sample_name + '.jpg')\n",
    "\n",
    "    if sample_name.startswith('WFLW/'):\n",
    "        img_path = img_path.replace('WFLW/', 'WFLW/WFLW_images/')\n",
    "    elif sample_name.startswith('ffhq'):\n",
    "        img_path = img_path.replace('ffhq', 'ffhq-dataset/images1024x1024')\n",
    "\n",
    "    if not os.path.exists(img_path):\n",
    "        img_path = img_path[:-4] + '.png'\n",
    "        assert os.path.exists(img_path), 'Image not found ' + img_path\n",
    "    img = cv2.imread(img_path)\n",
    "    img = cv2.cvtColor(img, cv2.COLOR_BGR2RGB)\n",
    "\n",
    "    annotation_path = os.path.join(ANNOTATIONS_PATH, sample_name + '.json')\n",
    "    assert os.path.exists(annotation_path), 'Landmarks not found'\n",
    "    with open(annotation_path, 'r') as f:\n",
    "        annotations = json.load(f)\n",
    "\n",
    "    return img, annotations\n",
    "\n",
    "def convert_to_image_coords(img, bbox, landmarks):\n",
    "    width, height = img.shape[1], img.shape[0]\n",
    "    left, top, right, bottom = bbox['left'], bbox['top'], bbox['right'], bbox['bottom']\n",
    "    left, top, right, bottom = int(left * width), int(top * height), int(right * width), int(bottom * height)\n",
    "\n",
    "    box_width = right - left\n",
    "    box_height = bottom - top\n",
    "\n",
    "    landmarks = [(int(l[0] * box_width + left), int(l[1] * box_height + top)) for l in landmarks]\n",
    "    bbox = {'left': left, 'top': top, 'right': right, 'bottom': bottom}\n",
    "    return bbox, landmarks\n",
    "\n",
    "\n",
    "sample_img, sample_an = read_sample('300W/afw/170817766_1')\n",
    "# sample_img, sample_an = read_sample('WFLW/61--Street_Battle/61_Street_Battle_streetfight_61_10')\n",
    "# sample_img, sample_an = read_sample('celeba_hq/train/female/000085')\n",
    "# sample_img, sample_an = read_sample('ffhq/00000/00000')\n",
    "img = sample_img.copy()\n",
    "for face in sample_an:\n",
    "    bbox, landmarks = convert_to_image_coords(img, face['bbox'], face['landmarks'])\n",
    "    img = draw_bboxes(img, bbox)\n",
    "    img = draw_landmarks_crop(img, landmarks)\n",
    "\n",
    "plt.imshow(img)"
   ]
  },
  {
   "cell_type": "code",
   "execution_count": null,
   "metadata": {},
   "outputs": [],
   "source": []
  },
  {
   "cell_type": "code",
   "execution_count": null,
   "metadata": {},
   "outputs": [],
   "source": []
  }
 ],
 "metadata": {
  "kernelspec": {
   "display_name": "base",
   "language": "python",
   "name": "python3"
  },
  "language_info": {
   "codemirror_mode": {
    "name": "ipython",
    "version": 3
   },
   "file_extension": ".py",
   "mimetype": "text/x-python",
   "name": "python",
   "nbconvert_exporter": "python",
   "pygments_lexer": "ipython3",
   "version": "3.9.12 (main, Apr  5 2022, 06:56:58) \n[GCC 7.5.0]"
  },
  "orig_nbformat": 4,
  "vscode": {
   "interpreter": {
    "hash": "ae6eeddc573c4c71d980054ec3dc9f5d051f5329c83e779a1fbcc2c12ae1a8a6"
   }
  }
 },
 "nbformat": 4,
 "nbformat_minor": 2
}
